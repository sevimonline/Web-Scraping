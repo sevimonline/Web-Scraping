{
 "cells": [
  {
   "cell_type": "code",
   "execution_count": 165,
   "metadata": {},
   "outputs": [],
   "source": [
    "# Import Library\n",
    "import requests\n",
    "from bs4 import BeautifulSoup as bts\n",
    "import pandas as pd\n",
    "import re\n",
    "import numpy as np\n",
    "import time"
   ]
  },
  {
   "cell_type": "code",
   "execution_count": 31,
   "metadata": {},
   "outputs": [],
   "source": [
    "def getAndParseURL(url):\n",
    "    result = requests.get(url, headers={\"User-Agent\":\"Chrome/103.0.0.0\"}) # Safari/537.36. Chrome/103.0.0.0\n",
    "    soup = bts(result.text, \"html.parser\")\n",
    "    return soup"
   ]
  },
  {
   "cell_type": "code",
   "execution_count": 32,
   "metadata": {},
   "outputs": [
    {
     "data": {
      "text/plain": [
       "['https://www.accuweather.com/tr/tr/izmir/318290/daily-weather-forecast/318290?day=1',\n",
       " 'https://www.accuweather.com/tr/tr/izmir/318290/daily-weather-forecast/318290?day=2',\n",
       " 'https://www.accuweather.com/tr/tr/izmir/318290/daily-weather-forecast/318290?day=3',\n",
       " 'https://www.accuweather.com/tr/tr/izmir/318290/daily-weather-forecast/318290?day=4',\n",
       " 'https://www.accuweather.com/tr/tr/izmir/318290/daily-weather-forecast/318290?day=5',\n",
       " 'https://www.accuweather.com/tr/tr/izmir/318290/daily-weather-forecast/318290?day=6',\n",
       " 'https://www.accuweather.com/tr/tr/izmir/318290/daily-weather-forecast/318290?day=7']"
      ]
     },
     "execution_count": 32,
     "metadata": {},
     "output_type": "execute_result"
    }
   ],
   "source": [
    "pages = []\n",
    "for page in range(1,8):\n",
    "    pages.append(\"https://www.accuweather.com/tr/tr/izmir/318290/daily-weather-forecast/318290?day=\"+str(page))\n",
    "    \n",
    "pages"
   ]
  },
  {
   "cell_type": "code",
   "execution_count": 33,
   "metadata": {},
   "outputs": [],
   "source": [
    "html = getAndParseURL(\"https://www.accuweather.com/tr/tr/izmir/318290/daily-weather-forecast/318290?day=1\")"
   ]
  },
  {
   "cell_type": "code",
   "execution_count": 48,
   "metadata": {},
   "outputs": [
    {
     "data": {
      "text/plain": [
       "'Salı, 7 Kasım'"
      ]
     },
     "execution_count": 48,
     "metadata": {},
     "output_type": "execute_result"
    }
   ],
   "source": [
    "html.find(\"div\", {\"class\":\"subnav-pagination\"}).text.strip().split('\\n')[0].strip()"
   ]
  },
  {
   "cell_type": "code",
   "execution_count": 130,
   "metadata": {},
   "outputs": [],
   "source": [
    "# Gunduz Verileri"
   ]
  },
  {
   "cell_type": "code",
   "execution_count": 46,
   "metadata": {},
   "outputs": [
    {
     "data": {
      "text/plain": [
       "'Gündüz'"
      ]
     },
     "execution_count": 46,
     "metadata": {},
     "output_type": "execute_result"
    }
   ],
   "source": [
    "html.find(\"div\", {\"class\":\"half-day-card-header__title\"}).text.strip().split('\\n')[0].strip()"
   ]
  },
  {
   "cell_type": "code",
   "execution_count": 52,
   "metadata": {},
   "outputs": [
    {
     "data": {
      "text/plain": [
       "'26°En Yüks.'"
      ]
     },
     "execution_count": 52,
     "metadata": {},
     "output_type": "execute_result"
    }
   ],
   "source": [
    "html.find(\"div\", {\"class\":\"temperature\"}).text.strip().split('\\n')[0].strip()"
   ]
  },
  {
   "cell_type": "code",
   "execution_count": 91,
   "metadata": {},
   "outputs": [
    {
     "data": {
      "text/plain": [
       "'3 Orta'"
      ]
     },
     "execution_count": 91,
     "metadata": {},
     "output_type": "execute_result"
    }
   ],
   "source": [
    "html.find(\"div\", {\"class\":\"left\"}).find(text=re.compile(\"Maks UV İndeksi\")).findNext().text"
   ]
  },
  {
   "cell_type": "code",
   "execution_count": 90,
   "metadata": {},
   "outputs": [
    {
     "data": {
      "text/plain": [
       "'GGB 7 km/sa'"
      ]
     },
     "execution_count": 90,
     "metadata": {},
     "output_type": "execute_result"
    }
   ],
   "source": [
    "html.find(\"div\", {\"class\":\"left\"}).find(text=re.compile(\"Rüzgar\")).findNext().text"
   ]
  },
  {
   "cell_type": "code",
   "execution_count": 89,
   "metadata": {},
   "outputs": [
    {
     "data": {
      "text/plain": [
       "'17 km/sa'"
      ]
     },
     "execution_count": 89,
     "metadata": {},
     "output_type": "execute_result"
    }
   ],
   "source": [
    "html.find(\"div\", {\"class\":\"left\"}).find(text=re.compile(\"Rüzgar Hamleleri\")).findNext().text"
   ]
  },
  {
   "cell_type": "code",
   "execution_count": 84,
   "metadata": {},
   "outputs": [
    {
     "data": {
      "text/plain": [
       "'%1'"
      ]
     },
     "execution_count": 84,
     "metadata": {},
     "output_type": "execute_result"
    }
   ],
   "source": [
    "html.find(\"div\", {\"class\":\"left\"}).find(text=re.compile(\"Yağış Beklentisi\")).findNext().text"
   ]
  },
  {
   "cell_type": "code",
   "execution_count": 107,
   "metadata": {},
   "outputs": [
    {
     "data": {
      "text/plain": [
       "'%0'"
      ]
     },
     "execution_count": 107,
     "metadata": {},
     "output_type": "execute_result"
    }
   ],
   "source": [
    "html.find(\"div\", {\"class\":\"right\"}).find(text=re.compile(\"Gök Gürültülü Sağanak Yağış Olasılığı\")).findNext().text"
   ]
  },
  {
   "cell_type": "code",
   "execution_count": 128,
   "metadata": {},
   "outputs": [
    {
     "data": {
      "text/plain": [
       "'0.0 mm'"
      ]
     },
     "execution_count": 128,
     "metadata": {},
     "output_type": "execute_result"
    }
   ],
   "source": [
    "html.find(\"div\",{\"class\":\"right\"}).findAll(\"p\")[1].text.replace(\"Yağış\",\"\")"
   ]
  },
  {
   "cell_type": "code",
   "execution_count": 109,
   "metadata": {},
   "outputs": [
    {
     "data": {
      "text/plain": [
       "'%7'"
      ]
     },
     "execution_count": 109,
     "metadata": {},
     "output_type": "execute_result"
    }
   ],
   "source": [
    "html.find(\"div\", {\"class\":\"right\"}).find(text=re.compile(\"Bulutlarla Kaplı\")).findNext().text"
   ]
  },
  {
   "cell_type": "code",
   "execution_count": 131,
   "metadata": {},
   "outputs": [],
   "source": [
    "# Gece Verileri"
   ]
  },
  {
   "cell_type": "code",
   "execution_count": 144,
   "metadata": {},
   "outputs": [
    {
     "data": {
      "text/plain": [
       "'Gece'"
      ]
     },
     "execution_count": 144,
     "metadata": {},
     "output_type": "execute_result"
    }
   ],
   "source": [
    "html.findAll(\"div\", {\"class\":\"half-day-card-header__title\"})[1].text.strip().split('\\n')[0].strip()"
   ]
  },
  {
   "cell_type": "code",
   "execution_count": 145,
   "metadata": {},
   "outputs": [
    {
     "data": {
      "text/plain": [
       "'16°En Düş.'"
      ]
     },
     "execution_count": 145,
     "metadata": {},
     "output_type": "execute_result"
    }
   ],
   "source": [
    "html.findAll(\"div\", {\"class\":\"temperature\"})[1].text.strip().split('\\n')[0].strip()"
   ]
  },
  {
   "cell_type": "code",
   "execution_count": 147,
   "metadata": {},
   "outputs": [
    {
     "data": {
      "text/plain": [
       "'BGB 6 km/sa'"
      ]
     },
     "execution_count": 147,
     "metadata": {},
     "output_type": "execute_result"
    }
   ],
   "source": [
    "html.findAll(\"div\", {\"class\":\"left\"})[1].find(text=re.compile(\"Rüzgar\")).findNext().text"
   ]
  },
  {
   "cell_type": "code",
   "execution_count": 148,
   "metadata": {},
   "outputs": [
    {
     "data": {
      "text/plain": [
       "'%1'"
      ]
     },
     "execution_count": 148,
     "metadata": {},
     "output_type": "execute_result"
    }
   ],
   "source": [
    "html.findAll(\"div\", {\"class\":\"left\"})[1].find(text=re.compile(\"Yağış Beklentisi\")).findNext().text"
   ]
  },
  {
   "cell_type": "code",
   "execution_count": 149,
   "metadata": {},
   "outputs": [
    {
     "data": {
      "text/plain": [
       "'%0'"
      ]
     },
     "execution_count": 149,
     "metadata": {},
     "output_type": "execute_result"
    }
   ],
   "source": [
    "html.findAll(\"div\", {\"class\":\"right\"})[1].find(text=re.compile(\"Gök Gürültülü Sağanak Yağış Olasılığı\")).findNext().text"
   ]
  },
  {
   "cell_type": "code",
   "execution_count": 162,
   "metadata": {},
   "outputs": [
    {
     "data": {
      "text/plain": [
       "'0.0 mm'"
      ]
     },
     "execution_count": 162,
     "metadata": {},
     "output_type": "execute_result"
    }
   ],
   "source": [
    "html.findAll(\"div\",{\"class\":\"right\"})[1].findAll(\"p\")[1].text.replace(\"Yağış\",\"\")"
   ]
  },
  {
   "cell_type": "code",
   "execution_count": 156,
   "metadata": {},
   "outputs": [
    {
     "data": {
      "text/plain": [
       "'%0'"
      ]
     },
     "execution_count": 156,
     "metadata": {},
     "output_type": "execute_result"
    }
   ],
   "source": [
    "html.findAll(\"div\", {\"class\":\"right\"})[1].find(text=re.compile(\"Bulutlarla Kaplı\")).findNext().text"
   ]
  },
  {
   "cell_type": "code",
   "execution_count": 186,
   "metadata": {},
   "outputs": [
    {
     "data": {
      "text/plain": [
       "['https://www.accuweather.com/tr/tr/izmir/318290/daily-weather-forecast/318290?day=1',\n",
       " 'https://www.accuweather.com/tr/tr/izmir/318290/daily-weather-forecast/318290?day=2',\n",
       " 'https://www.accuweather.com/tr/tr/izmir/318290/daily-weather-forecast/318290?day=3',\n",
       " 'https://www.accuweather.com/tr/tr/izmir/318290/daily-weather-forecast/318290?day=4',\n",
       " 'https://www.accuweather.com/tr/tr/izmir/318290/daily-weather-forecast/318290?day=5',\n",
       " 'https://www.accuweather.com/tr/tr/izmir/318290/daily-weather-forecast/318290?day=6',\n",
       " 'https://www.accuweather.com/tr/tr/izmir/318290/daily-weather-forecast/318290?day=7']"
      ]
     },
     "execution_count": 186,
     "metadata": {},
     "output_type": "execute_result"
    }
   ],
   "source": [
    "pages"
   ]
  },
  {
   "cell_type": "code",
   "execution_count": null,
   "metadata": {},
   "outputs": [],
   "source": []
  },
  {
   "cell_type": "code",
   "execution_count": 222,
   "metadata": {},
   "outputs": [],
   "source": [
    "features_gunduz = []\n",
    "for page in pages:\n",
    "    html = getAndParseURL(page)\n",
    "    try:\n",
    "        Tarih = html.find(\"div\", {\"class\":\"subnav-pagination\"}).text.strip().split('\\n')[0].strip()\n",
    "    except:\n",
    "        Tarih = np.nan\n",
    "    try:\n",
    "        Gunduz_Gece = html.find(\"div\", {\"class\":\"half-day-card-header__title\"}).text.strip().split('\\n')[0].strip()\n",
    "    except:\n",
    "        Gunduz_Gece = np.nan\n",
    "    try:\n",
    "        Max_Sicaklik = html.find(\"div\", {\"class\":\"temperature\"}).text.strip().split('\\n')[0].strip()\n",
    "    except:\n",
    "        Max_Sicaklik = np.nan\n",
    "    try:\n",
    "        Maks_UV_Indeksi = html.find(\"div\", {\"class\":\"left\"}).find(text=re.compile(\"Maks UV İndeksi\")).findNext().text\n",
    "    except:\n",
    "        Maks_UV_Indeksi = np.nan\n",
    "    try:\n",
    "        Ruzgar = html.find(\"div\", {\"class\":\"left\"}).find(text=re.compile(\"Rüzgar\")).findNext().text\n",
    "    except:\n",
    "        Ruzgar = np.nan\n",
    "    try:\n",
    "        Yagis_Beklentisi = html.find(\"div\", {\"class\":\"left\"}).find(text=re.compile(\"Yağış Beklentisi\")).findNext().text\n",
    "    except:\n",
    "        Yagis_Beklentisi = np.nan\n",
    "    try:\n",
    "        Gok_Gurultulu_Saganak_Yagis_Olasiligi = html.find(\"div\", {\"class\":\"right\"}).find(text=re.compile(\"Gök Gürültülü Sağanak Yağış Olasılığı\")).findNext().text\n",
    "    except:\n",
    "        Gok_Gurultulu_Saganak_Yagis_Olasiligi = np.nan\n",
    "    try:\n",
    "        Yagis = html.findAll(\"div\",{\"class\":\"panels\"})[0].findAll(\"p\")[5].text.replace(\"Yağış\",\"\")\n",
    "    except:\n",
    "        Yagis = np.nan\n",
    "    try:\n",
    "        Bulutlarla_Kapli = html.find(\"div\", {\"class\":\"right\"}).find(text=re.compile(\"Bulutlarla Kaplı\")).findNext().text\n",
    "    except:\n",
    "        Bulutlarla_Kapli = np.nan\n",
    "\n",
    "    features_gunduz.append([Tarih,Gunduz_Gece,Max_Sicaklik,Maks_UV_Indeksi,Ruzgar,Yagis_Beklentisi,Gok_Gurultulu_Saganak_Yagis_Olasiligi,Yagis,Bulutlarla_Kapli])\n",
    "\n",
    "    time.sleep(1)\n",
    "    "
   ]
  },
  {
   "cell_type": "code",
   "execution_count": 223,
   "metadata": {},
   "outputs": [],
   "source": [
    "df_gunduz_columns = [\"Tarih\",\"Gunduz_Gece\",\"Max_Sicaklik\",\"Maks_UV_Indeksi\",\"Ruzgar\",\"Yagis_Beklentisi\",\"Gok_Gurultulu_Saganak_Yagis_Olasiligi\",\"Yagis\",\"Bulutlarla_Kapli\"]\n",
    "df_gunduz = pd.DataFrame.from_records(features_gunduz, columns=df_gunduz_columns)\n"
   ]
  },
  {
   "cell_type": "code",
   "execution_count": 224,
   "metadata": {},
   "outputs": [
    {
     "data": {
      "text/html": [
       "<div>\n",
       "<style scoped>\n",
       "    .dataframe tbody tr th:only-of-type {\n",
       "        vertical-align: middle;\n",
       "    }\n",
       "\n",
       "    .dataframe tbody tr th {\n",
       "        vertical-align: top;\n",
       "    }\n",
       "\n",
       "    .dataframe thead th {\n",
       "        text-align: right;\n",
       "    }\n",
       "</style>\n",
       "<table border=\"1\" class=\"dataframe\">\n",
       "  <thead>\n",
       "    <tr style=\"text-align: right;\">\n",
       "      <th></th>\n",
       "      <th>Tarih</th>\n",
       "      <th>Gunduz_Gece</th>\n",
       "      <th>Max_Sicaklik</th>\n",
       "      <th>Maks_UV_Indeksi</th>\n",
       "      <th>Ruzgar</th>\n",
       "      <th>Yagis_Beklentisi</th>\n",
       "      <th>Gok_Gurultulu_Saganak_Yagis_Olasiligi</th>\n",
       "      <th>Yagis</th>\n",
       "      <th>Bulutlarla_Kapli</th>\n",
       "    </tr>\n",
       "  </thead>\n",
       "  <tbody>\n",
       "    <tr>\n",
       "      <th>0</th>\n",
       "      <td>Salı, 7 Kasım</td>\n",
       "      <td>Gündüz</td>\n",
       "      <td>26°En Yüks.</td>\n",
       "      <td>3 Orta</td>\n",
       "      <td>GGB 6 km/sa</td>\n",
       "      <td>%1</td>\n",
       "      <td>%0</td>\n",
       "      <td>0.0 mm</td>\n",
       "      <td>%9</td>\n",
       "    </tr>\n",
       "    <tr>\n",
       "      <th>1</th>\n",
       "      <td>Çarşamba, 8 Kasım</td>\n",
       "      <td>Gündüz</td>\n",
       "      <td>26°En Yüks.</td>\n",
       "      <td>3 Orta</td>\n",
       "      <td>G 9 km/sa</td>\n",
       "      <td>%0</td>\n",
       "      <td>%0</td>\n",
       "      <td>0.0 mm</td>\n",
       "      <td>%55</td>\n",
       "    </tr>\n",
       "    <tr>\n",
       "      <th>2</th>\n",
       "      <td>Perşembe, 9 Kasım</td>\n",
       "      <td>Gündüz</td>\n",
       "      <td>22°En Yüks.</td>\n",
       "      <td>3 Orta</td>\n",
       "      <td>GB 9 km/sa</td>\n",
       "      <td>%90</td>\n",
       "      <td>NaN</td>\n",
       "      <td>7.6 mm</td>\n",
       "      <td>%69</td>\n",
       "    </tr>\n",
       "    <tr>\n",
       "      <th>3</th>\n",
       "      <td>Cuma, 10 Kasım</td>\n",
       "      <td>Gündüz</td>\n",
       "      <td>22°En Yüks.</td>\n",
       "      <td>2 İyi</td>\n",
       "      <td>GGD 9 km/sa</td>\n",
       "      <td>%2</td>\n",
       "      <td>%0</td>\n",
       "      <td>0.0 mm</td>\n",
       "      <td>%51</td>\n",
       "    </tr>\n",
       "    <tr>\n",
       "      <th>4</th>\n",
       "      <td>Cumartesi, 11 Kasım</td>\n",
       "      <td>Gündüz</td>\n",
       "      <td>23°En Yüks.</td>\n",
       "      <td>1 İyi</td>\n",
       "      <td>GGD 20 km/sa</td>\n",
       "      <td>%87</td>\n",
       "      <td>NaN</td>\n",
       "      <td>9.2 mm</td>\n",
       "      <td>%99</td>\n",
       "    </tr>\n",
       "    <tr>\n",
       "      <th>5</th>\n",
       "      <td>Pazar, 12 Kasım</td>\n",
       "      <td>Gündüz</td>\n",
       "      <td>22°En Yüks.</td>\n",
       "      <td>3 Orta</td>\n",
       "      <td>G 13 km/sa</td>\n",
       "      <td>%42</td>\n",
       "      <td>NaN</td>\n",
       "      <td>0.6 mm</td>\n",
       "      <td>%65</td>\n",
       "    </tr>\n",
       "    <tr>\n",
       "      <th>6</th>\n",
       "      <td>Pazartesi, 13 Kasım</td>\n",
       "      <td>Gündüz</td>\n",
       "      <td>20°En Yüks.</td>\n",
       "      <td>1 İyi</td>\n",
       "      <td>GD 11 km/sa</td>\n",
       "      <td>%55</td>\n",
       "      <td>NaN</td>\n",
       "      <td>1.3 mm</td>\n",
       "      <td>%96</td>\n",
       "    </tr>\n",
       "  </tbody>\n",
       "</table>\n",
       "</div>"
      ],
      "text/plain": [
       "                 Tarih Gunduz_Gece Max_Sicaklik Maks_UV_Indeksi        Ruzgar  \\\n",
       "0        Salı, 7 Kasım      Gündüz  26°En Yüks.          3 Orta   GGB 6 km/sa   \n",
       "1    Çarşamba, 8 Kasım      Gündüz  26°En Yüks.          3 Orta     G 9 km/sa   \n",
       "2    Perşembe, 9 Kasım      Gündüz  22°En Yüks.          3 Orta    GB 9 km/sa   \n",
       "3       Cuma, 10 Kasım      Gündüz  22°En Yüks.           2 İyi   GGD 9 km/sa   \n",
       "4  Cumartesi, 11 Kasım      Gündüz  23°En Yüks.           1 İyi  GGD 20 km/sa   \n",
       "5      Pazar, 12 Kasım      Gündüz  22°En Yüks.          3 Orta    G 13 km/sa   \n",
       "6  Pazartesi, 13 Kasım      Gündüz  20°En Yüks.           1 İyi   GD 11 km/sa   \n",
       "\n",
       "  Yagis_Beklentisi Gok_Gurultulu_Saganak_Yagis_Olasiligi   Yagis  \\\n",
       "0               %1                                    %0  0.0 mm   \n",
       "1               %0                                    %0  0.0 mm   \n",
       "2              %90                                   NaN  7.6 mm   \n",
       "3               %2                                    %0  0.0 mm   \n",
       "4              %87                                   NaN  9.2 mm   \n",
       "5              %42                                   NaN  0.6 mm   \n",
       "6              %55                                   NaN  1.3 mm   \n",
       "\n",
       "  Bulutlarla_Kapli  \n",
       "0               %9  \n",
       "1              %55  \n",
       "2              %69  \n",
       "3              %51  \n",
       "4              %99  \n",
       "5              %65  \n",
       "6              %96  "
      ]
     },
     "execution_count": 224,
     "metadata": {},
     "output_type": "execute_result"
    }
   ],
   "source": [
    "df_gunduz"
   ]
  },
  {
   "cell_type": "code",
   "execution_count": 226,
   "metadata": {},
   "outputs": [],
   "source": [
    "features_gece = []\n",
    "for page in pages:\n",
    "    html = getAndParseURL(page)\n",
    "    try:\n",
    "        Tarih = html.find(\"div\", {\"class\":\"subnav-pagination\"}).text.strip().split('\\n')[0].strip()\n",
    "    except:\n",
    "        Tarih = np.nan\n",
    "    try:\n",
    "        Gunduz_Gece = html.findAll(\"div\", {\"class\":\"half-day-card-header__title\"})[1].text.strip().split('\\n')[0].strip()\n",
    "    except:\n",
    "        Gunduz_Gece = np.nan\n",
    "    try:\n",
    "        Min_Sicaklik = html.findAll(\"div\", {\"class\":\"temperature\"})[1].text.strip().split('\\n')[0].strip()\n",
    "    except:\n",
    "        Min_Sicaklik = np.nan\n",
    "    try:\n",
    "        Ruzgar = html.findAll(\"div\", {\"class\":\"left\"})[1].find(text=re.compile(\"Rüzgar\")).findNext().text\n",
    "    except:\n",
    "        Ruzgar = np.nan\n",
    "    try:\n",
    "        Yagis_Beklentisi = html.findAll(\"div\", {\"class\":\"left\"})[1].find(text=re.compile(\"Yağış Beklentisi\")).findNext().text\n",
    "    except:\n",
    "        Yagis_Beklentisi = np.nan\n",
    "    try:\n",
    "        Gok_Gurultulu_Saganak_Yagis_Olasiligi = html.findAll(\"div\", {\"class\":\"right\"})[1].find(text=re.compile(\"Gök Gürültülü Sağanak Yağış Olasılığı\")).findNext().text\n",
    "    except:\n",
    "        Gok_Gurultulu_Saganak_Yagis_Olasiligi = np.nan\n",
    "    try:\n",
    "        Yagis = html.findAll(\"div\",{\"class\":\"panels\"})[1].findAll(\"p\")[4].text.replace(\"Yağış\",\"\")\n",
    "    except:\n",
    "        Yagis = np.nan\n",
    "    try:\n",
    "        Bulutlarla_Kapli = html.findAll(\"div\", {\"class\":\"right\"})[1].find(text=re.compile(\"Bulutlarla Kaplı\")).findNext().text\n",
    "    except:\n",
    "        Bulutlarla_Kapli = np.nan\n",
    "\n",
    "    features_gece.append([Tarih,Gunduz_Gece,Max_Sicaklik,Ruzgar,Yagis_Beklentisi,Gok_Gurultulu_Saganak_Yagis_Olasiligi,Yagis,Bulutlarla_Kapli])\n",
    "\n",
    "    time.sleep(1)\n",
    "    "
   ]
  },
  {
   "cell_type": "code",
   "execution_count": 227,
   "metadata": {},
   "outputs": [],
   "source": [
    "df_gece_columns = [\"Tarih\",\"Gunduz_Gece\",\"Max_Sicaklik\",\"Ruzgar\",\"Yagis_Beklentisi\",\"Gok_Gurultulu_Saganak_Yagis_Olasiligi\",\"Yagis\",\"Bulutlarla_Kapli\"]\n",
    "df_gece = pd.DataFrame.from_records(features_gece, columns=df_gece_columns)\n"
   ]
  },
  {
   "cell_type": "code",
   "execution_count": 228,
   "metadata": {},
   "outputs": [
    {
     "data": {
      "text/html": [
       "<div>\n",
       "<style scoped>\n",
       "    .dataframe tbody tr th:only-of-type {\n",
       "        vertical-align: middle;\n",
       "    }\n",
       "\n",
       "    .dataframe tbody tr th {\n",
       "        vertical-align: top;\n",
       "    }\n",
       "\n",
       "    .dataframe thead th {\n",
       "        text-align: right;\n",
       "    }\n",
       "</style>\n",
       "<table border=\"1\" class=\"dataframe\">\n",
       "  <thead>\n",
       "    <tr style=\"text-align: right;\">\n",
       "      <th></th>\n",
       "      <th>Tarih</th>\n",
       "      <th>Gunduz_Gece</th>\n",
       "      <th>Max_Sicaklik</th>\n",
       "      <th>Ruzgar</th>\n",
       "      <th>Yagis_Beklentisi</th>\n",
       "      <th>Gok_Gurultulu_Saganak_Yagis_Olasiligi</th>\n",
       "      <th>Yagis</th>\n",
       "      <th>Bulutlarla_Kapli</th>\n",
       "    </tr>\n",
       "  </thead>\n",
       "  <tbody>\n",
       "    <tr>\n",
       "      <th>0</th>\n",
       "      <td>Salı, 7 Kasım</td>\n",
       "      <td>Gece</td>\n",
       "      <td>20°En Yüks.</td>\n",
       "      <td>BGB 6 km/sa</td>\n",
       "      <td>%1</td>\n",
       "      <td>%0</td>\n",
       "      <td>0.0 mm</td>\n",
       "      <td>%0</td>\n",
       "    </tr>\n",
       "    <tr>\n",
       "      <th>1</th>\n",
       "      <td>Çarşamba, 8 Kasım</td>\n",
       "      <td>Gece</td>\n",
       "      <td>20°En Yüks.</td>\n",
       "      <td>GGD 9 km/sa</td>\n",
       "      <td>%4</td>\n",
       "      <td>%0</td>\n",
       "      <td>0.0 mm</td>\n",
       "      <td>%67</td>\n",
       "    </tr>\n",
       "    <tr>\n",
       "      <th>2</th>\n",
       "      <td>Perşembe, 9 Kasım</td>\n",
       "      <td>Gece</td>\n",
       "      <td>20°En Yüks.</td>\n",
       "      <td>K 7 km/sa</td>\n",
       "      <td>%3</td>\n",
       "      <td>%0</td>\n",
       "      <td>0.0 mm</td>\n",
       "      <td>%20</td>\n",
       "    </tr>\n",
       "    <tr>\n",
       "      <th>3</th>\n",
       "      <td>Cuma, 10 Kasım</td>\n",
       "      <td>Gece</td>\n",
       "      <td>20°En Yüks.</td>\n",
       "      <td>GD 11 km/sa</td>\n",
       "      <td>%10</td>\n",
       "      <td>%0</td>\n",
       "      <td>0.0 mm</td>\n",
       "      <td>%43</td>\n",
       "    </tr>\n",
       "    <tr>\n",
       "      <th>4</th>\n",
       "      <td>Cumartesi, 11 Kasım</td>\n",
       "      <td>Gece</td>\n",
       "      <td>20°En Yüks.</td>\n",
       "      <td>GD 17 km/sa</td>\n",
       "      <td>%100</td>\n",
       "      <td>NaN</td>\n",
       "      <td>48.0 mm</td>\n",
       "      <td>%98</td>\n",
       "    </tr>\n",
       "    <tr>\n",
       "      <th>5</th>\n",
       "      <td>Pazar, 12 Kasım</td>\n",
       "      <td>Gece</td>\n",
       "      <td>20°En Yüks.</td>\n",
       "      <td>DGD 6 km/sa</td>\n",
       "      <td>%13</td>\n",
       "      <td>%0</td>\n",
       "      <td>0.0 mm</td>\n",
       "      <td>%68</td>\n",
       "    </tr>\n",
       "    <tr>\n",
       "      <th>6</th>\n",
       "      <td>Pazartesi, 13 Kasım</td>\n",
       "      <td>Gece</td>\n",
       "      <td>20°En Yüks.</td>\n",
       "      <td>DGD 9 km/sa</td>\n",
       "      <td>%65</td>\n",
       "      <td>NaN</td>\n",
       "      <td>13.9 mm</td>\n",
       "      <td>%100</td>\n",
       "    </tr>\n",
       "  </tbody>\n",
       "</table>\n",
       "</div>"
      ],
      "text/plain": [
       "                 Tarih Gunduz_Gece Max_Sicaklik       Ruzgar Yagis_Beklentisi  \\\n",
       "0        Salı, 7 Kasım        Gece  20°En Yüks.  BGB 6 km/sa               %1   \n",
       "1    Çarşamba, 8 Kasım        Gece  20°En Yüks.  GGD 9 km/sa               %4   \n",
       "2    Perşembe, 9 Kasım        Gece  20°En Yüks.    K 7 km/sa               %3   \n",
       "3       Cuma, 10 Kasım        Gece  20°En Yüks.  GD 11 km/sa              %10   \n",
       "4  Cumartesi, 11 Kasım        Gece  20°En Yüks.  GD 17 km/sa             %100   \n",
       "5      Pazar, 12 Kasım        Gece  20°En Yüks.  DGD 6 km/sa              %13   \n",
       "6  Pazartesi, 13 Kasım        Gece  20°En Yüks.  DGD 9 km/sa              %65   \n",
       "\n",
       "  Gok_Gurultulu_Saganak_Yagis_Olasiligi    Yagis Bulutlarla_Kapli  \n",
       "0                                    %0   0.0 mm               %0  \n",
       "1                                    %0   0.0 mm              %67  \n",
       "2                                    %0   0.0 mm              %20  \n",
       "3                                    %0   0.0 mm              %43  \n",
       "4                                   NaN  48.0 mm              %98  \n",
       "5                                    %0   0.0 mm              %68  \n",
       "6                                   NaN  13.9 mm             %100  "
      ]
     },
     "execution_count": 228,
     "metadata": {},
     "output_type": "execute_result"
    }
   ],
   "source": [
    "df_gece"
   ]
  },
  {
   "cell_type": "code",
   "execution_count": 232,
   "metadata": {},
   "outputs": [],
   "source": [
    "merged_df = pd.concat([df_gunduz, df_gece], axis=0, ignore_index=True)"
   ]
  },
  {
   "cell_type": "code",
   "execution_count": 233,
   "metadata": {},
   "outputs": [
    {
     "data": {
      "text/html": [
       "<div>\n",
       "<style scoped>\n",
       "    .dataframe tbody tr th:only-of-type {\n",
       "        vertical-align: middle;\n",
       "    }\n",
       "\n",
       "    .dataframe tbody tr th {\n",
       "        vertical-align: top;\n",
       "    }\n",
       "\n",
       "    .dataframe thead th {\n",
       "        text-align: right;\n",
       "    }\n",
       "</style>\n",
       "<table border=\"1\" class=\"dataframe\">\n",
       "  <thead>\n",
       "    <tr style=\"text-align: right;\">\n",
       "      <th></th>\n",
       "      <th>Tarih</th>\n",
       "      <th>Gunduz_Gece</th>\n",
       "      <th>Max_Sicaklik</th>\n",
       "      <th>Maks_UV_Indeksi</th>\n",
       "      <th>Ruzgar</th>\n",
       "      <th>Yagis_Beklentisi</th>\n",
       "      <th>Gok_Gurultulu_Saganak_Yagis_Olasiligi</th>\n",
       "      <th>Yagis</th>\n",
       "      <th>Bulutlarla_Kapli</th>\n",
       "    </tr>\n",
       "  </thead>\n",
       "  <tbody>\n",
       "    <tr>\n",
       "      <th>0</th>\n",
       "      <td>Salı, 7 Kasım</td>\n",
       "      <td>Gündüz</td>\n",
       "      <td>26°En Yüks.</td>\n",
       "      <td>3 Orta</td>\n",
       "      <td>GGB 6 km/sa</td>\n",
       "      <td>%1</td>\n",
       "      <td>%0</td>\n",
       "      <td>0.0 mm</td>\n",
       "      <td>%9</td>\n",
       "    </tr>\n",
       "    <tr>\n",
       "      <th>1</th>\n",
       "      <td>Çarşamba, 8 Kasım</td>\n",
       "      <td>Gündüz</td>\n",
       "      <td>26°En Yüks.</td>\n",
       "      <td>3 Orta</td>\n",
       "      <td>G 9 km/sa</td>\n",
       "      <td>%0</td>\n",
       "      <td>%0</td>\n",
       "      <td>0.0 mm</td>\n",
       "      <td>%55</td>\n",
       "    </tr>\n",
       "    <tr>\n",
       "      <th>2</th>\n",
       "      <td>Perşembe, 9 Kasım</td>\n",
       "      <td>Gündüz</td>\n",
       "      <td>22°En Yüks.</td>\n",
       "      <td>3 Orta</td>\n",
       "      <td>GB 9 km/sa</td>\n",
       "      <td>%90</td>\n",
       "      <td>NaN</td>\n",
       "      <td>7.6 mm</td>\n",
       "      <td>%69</td>\n",
       "    </tr>\n",
       "    <tr>\n",
       "      <th>3</th>\n",
       "      <td>Cuma, 10 Kasım</td>\n",
       "      <td>Gündüz</td>\n",
       "      <td>22°En Yüks.</td>\n",
       "      <td>2 İyi</td>\n",
       "      <td>GGD 9 km/sa</td>\n",
       "      <td>%2</td>\n",
       "      <td>%0</td>\n",
       "      <td>0.0 mm</td>\n",
       "      <td>%51</td>\n",
       "    </tr>\n",
       "    <tr>\n",
       "      <th>4</th>\n",
       "      <td>Cumartesi, 11 Kasım</td>\n",
       "      <td>Gündüz</td>\n",
       "      <td>23°En Yüks.</td>\n",
       "      <td>1 İyi</td>\n",
       "      <td>GGD 20 km/sa</td>\n",
       "      <td>%87</td>\n",
       "      <td>NaN</td>\n",
       "      <td>9.2 mm</td>\n",
       "      <td>%99</td>\n",
       "    </tr>\n",
       "    <tr>\n",
       "      <th>5</th>\n",
       "      <td>Pazar, 12 Kasım</td>\n",
       "      <td>Gündüz</td>\n",
       "      <td>22°En Yüks.</td>\n",
       "      <td>3 Orta</td>\n",
       "      <td>G 13 km/sa</td>\n",
       "      <td>%42</td>\n",
       "      <td>NaN</td>\n",
       "      <td>0.6 mm</td>\n",
       "      <td>%65</td>\n",
       "    </tr>\n",
       "    <tr>\n",
       "      <th>6</th>\n",
       "      <td>Pazartesi, 13 Kasım</td>\n",
       "      <td>Gündüz</td>\n",
       "      <td>20°En Yüks.</td>\n",
       "      <td>1 İyi</td>\n",
       "      <td>GD 11 km/sa</td>\n",
       "      <td>%55</td>\n",
       "      <td>NaN</td>\n",
       "      <td>1.3 mm</td>\n",
       "      <td>%96</td>\n",
       "    </tr>\n",
       "    <tr>\n",
       "      <th>7</th>\n",
       "      <td>Salı, 7 Kasım</td>\n",
       "      <td>Gece</td>\n",
       "      <td>20°En Yüks.</td>\n",
       "      <td>NaN</td>\n",
       "      <td>BGB 6 km/sa</td>\n",
       "      <td>%1</td>\n",
       "      <td>%0</td>\n",
       "      <td>0.0 mm</td>\n",
       "      <td>%0</td>\n",
       "    </tr>\n",
       "    <tr>\n",
       "      <th>8</th>\n",
       "      <td>Çarşamba, 8 Kasım</td>\n",
       "      <td>Gece</td>\n",
       "      <td>20°En Yüks.</td>\n",
       "      <td>NaN</td>\n",
       "      <td>GGD 9 km/sa</td>\n",
       "      <td>%4</td>\n",
       "      <td>%0</td>\n",
       "      <td>0.0 mm</td>\n",
       "      <td>%67</td>\n",
       "    </tr>\n",
       "    <tr>\n",
       "      <th>9</th>\n",
       "      <td>Perşembe, 9 Kasım</td>\n",
       "      <td>Gece</td>\n",
       "      <td>20°En Yüks.</td>\n",
       "      <td>NaN</td>\n",
       "      <td>K 7 km/sa</td>\n",
       "      <td>%3</td>\n",
       "      <td>%0</td>\n",
       "      <td>0.0 mm</td>\n",
       "      <td>%20</td>\n",
       "    </tr>\n",
       "    <tr>\n",
       "      <th>10</th>\n",
       "      <td>Cuma, 10 Kasım</td>\n",
       "      <td>Gece</td>\n",
       "      <td>20°En Yüks.</td>\n",
       "      <td>NaN</td>\n",
       "      <td>GD 11 km/sa</td>\n",
       "      <td>%10</td>\n",
       "      <td>%0</td>\n",
       "      <td>0.0 mm</td>\n",
       "      <td>%43</td>\n",
       "    </tr>\n",
       "    <tr>\n",
       "      <th>11</th>\n",
       "      <td>Cumartesi, 11 Kasım</td>\n",
       "      <td>Gece</td>\n",
       "      <td>20°En Yüks.</td>\n",
       "      <td>NaN</td>\n",
       "      <td>GD 17 km/sa</td>\n",
       "      <td>%100</td>\n",
       "      <td>NaN</td>\n",
       "      <td>48.0 mm</td>\n",
       "      <td>%98</td>\n",
       "    </tr>\n",
       "    <tr>\n",
       "      <th>12</th>\n",
       "      <td>Pazar, 12 Kasım</td>\n",
       "      <td>Gece</td>\n",
       "      <td>20°En Yüks.</td>\n",
       "      <td>NaN</td>\n",
       "      <td>DGD 6 km/sa</td>\n",
       "      <td>%13</td>\n",
       "      <td>%0</td>\n",
       "      <td>0.0 mm</td>\n",
       "      <td>%68</td>\n",
       "    </tr>\n",
       "    <tr>\n",
       "      <th>13</th>\n",
       "      <td>Pazartesi, 13 Kasım</td>\n",
       "      <td>Gece</td>\n",
       "      <td>20°En Yüks.</td>\n",
       "      <td>NaN</td>\n",
       "      <td>DGD 9 km/sa</td>\n",
       "      <td>%65</td>\n",
       "      <td>NaN</td>\n",
       "      <td>13.9 mm</td>\n",
       "      <td>%100</td>\n",
       "    </tr>\n",
       "  </tbody>\n",
       "</table>\n",
       "</div>"
      ],
      "text/plain": [
       "                  Tarih Gunduz_Gece Max_Sicaklik Maks_UV_Indeksi  \\\n",
       "0         Salı, 7 Kasım      Gündüz  26°En Yüks.          3 Orta   \n",
       "1     Çarşamba, 8 Kasım      Gündüz  26°En Yüks.          3 Orta   \n",
       "2     Perşembe, 9 Kasım      Gündüz  22°En Yüks.          3 Orta   \n",
       "3        Cuma, 10 Kasım      Gündüz  22°En Yüks.           2 İyi   \n",
       "4   Cumartesi, 11 Kasım      Gündüz  23°En Yüks.           1 İyi   \n",
       "5       Pazar, 12 Kasım      Gündüz  22°En Yüks.          3 Orta   \n",
       "6   Pazartesi, 13 Kasım      Gündüz  20°En Yüks.           1 İyi   \n",
       "7         Salı, 7 Kasım        Gece  20°En Yüks.             NaN   \n",
       "8     Çarşamba, 8 Kasım        Gece  20°En Yüks.             NaN   \n",
       "9     Perşembe, 9 Kasım        Gece  20°En Yüks.             NaN   \n",
       "10       Cuma, 10 Kasım        Gece  20°En Yüks.             NaN   \n",
       "11  Cumartesi, 11 Kasım        Gece  20°En Yüks.             NaN   \n",
       "12      Pazar, 12 Kasım        Gece  20°En Yüks.             NaN   \n",
       "13  Pazartesi, 13 Kasım        Gece  20°En Yüks.             NaN   \n",
       "\n",
       "          Ruzgar Yagis_Beklentisi Gok_Gurultulu_Saganak_Yagis_Olasiligi  \\\n",
       "0    GGB 6 km/sa               %1                                    %0   \n",
       "1      G 9 km/sa               %0                                    %0   \n",
       "2     GB 9 km/sa              %90                                   NaN   \n",
       "3    GGD 9 km/sa               %2                                    %0   \n",
       "4   GGD 20 km/sa              %87                                   NaN   \n",
       "5     G 13 km/sa              %42                                   NaN   \n",
       "6    GD 11 km/sa              %55                                   NaN   \n",
       "7    BGB 6 km/sa               %1                                    %0   \n",
       "8    GGD 9 km/sa               %4                                    %0   \n",
       "9      K 7 km/sa               %3                                    %0   \n",
       "10   GD 11 km/sa              %10                                    %0   \n",
       "11   GD 17 km/sa             %100                                   NaN   \n",
       "12   DGD 6 km/sa              %13                                    %0   \n",
       "13   DGD 9 km/sa              %65                                   NaN   \n",
       "\n",
       "      Yagis Bulutlarla_Kapli  \n",
       "0    0.0 mm               %9  \n",
       "1    0.0 mm              %55  \n",
       "2    7.6 mm              %69  \n",
       "3    0.0 mm              %51  \n",
       "4    9.2 mm              %99  \n",
       "5    0.6 mm              %65  \n",
       "6    1.3 mm              %96  \n",
       "7    0.0 mm               %0  \n",
       "8    0.0 mm              %67  \n",
       "9    0.0 mm              %20  \n",
       "10   0.0 mm              %43  \n",
       "11  48.0 mm              %98  \n",
       "12   0.0 mm              %68  \n",
       "13  13.9 mm             %100  "
      ]
     },
     "execution_count": 233,
     "metadata": {},
     "output_type": "execute_result"
    }
   ],
   "source": [
    "merged_df"
   ]
  },
  {
   "cell_type": "code",
   "execution_count": 237,
   "metadata": {},
   "outputs": [
    {
     "data": {
      "text/plain": [
       "Tarih                                    object\n",
       "Gunduz_Gece                              object\n",
       "Max_Sicaklik                             object\n",
       "Maks_UV_Indeksi                          object\n",
       "Ruzgar                                   object\n",
       "Yagis_Beklentisi                         object\n",
       "Gok_Gurultulu_Saganak_Yagis_Olasiligi    object\n",
       "Yagis                                    object\n",
       "Bulutlarla_Kapli                         object\n",
       "dtype: object"
      ]
     },
     "execution_count": 237,
     "metadata": {},
     "output_type": "execute_result"
    }
   ],
   "source": [
    "merged_df.dtypes"
   ]
  },
  {
   "cell_type": "markdown",
   "metadata": {},
   "source": [
    "## Veri genel hatları itibari ile bu şekildedir. İşlenmek isteniyor ise gerekli dönüşümler yapılmalıdır."
   ]
  },
  {
   "cell_type": "code",
   "execution_count": 236,
   "metadata": {},
   "outputs": [],
   "source": [
    "merged_df.to_csv('merged_data.csv', index=False)"
   ]
  },
  {
   "cell_type": "code",
   "execution_count": null,
   "metadata": {},
   "outputs": [],
   "source": []
  },
  {
   "cell_type": "code",
   "execution_count": null,
   "metadata": {},
   "outputs": [],
   "source": []
  },
  {
   "cell_type": "code",
   "execution_count": null,
   "metadata": {},
   "outputs": [],
   "source": []
  },
  {
   "cell_type": "code",
   "execution_count": null,
   "metadata": {},
   "outputs": [],
   "source": []
  },
  {
   "cell_type": "code",
   "execution_count": null,
   "metadata": {},
   "outputs": [],
   "source": []
  },
  {
   "cell_type": "code",
   "execution_count": null,
   "metadata": {},
   "outputs": [],
   "source": []
  },
  {
   "cell_type": "code",
   "execution_count": null,
   "metadata": {},
   "outputs": [],
   "source": []
  },
  {
   "cell_type": "code",
   "execution_count": null,
   "metadata": {},
   "outputs": [],
   "source": []
  },
  {
   "cell_type": "code",
   "execution_count": null,
   "metadata": {},
   "outputs": [],
   "source": []
  },
  {
   "cell_type": "code",
   "execution_count": null,
   "metadata": {},
   "outputs": [],
   "source": []
  },
  {
   "cell_type": "code",
   "execution_count": null,
   "metadata": {},
   "outputs": [],
   "source": []
  },
  {
   "cell_type": "code",
   "execution_count": null,
   "metadata": {},
   "outputs": [],
   "source": []
  },
  {
   "cell_type": "code",
   "execution_count": null,
   "metadata": {},
   "outputs": [],
   "source": []
  },
  {
   "cell_type": "code",
   "execution_count": null,
   "metadata": {},
   "outputs": [],
   "source": []
  },
  {
   "cell_type": "code",
   "execution_count": null,
   "metadata": {},
   "outputs": [],
   "source": []
  },
  {
   "cell_type": "code",
   "execution_count": null,
   "metadata": {},
   "outputs": [],
   "source": []
  },
  {
   "cell_type": "code",
   "execution_count": null,
   "metadata": {},
   "outputs": [],
   "source": []
  },
  {
   "cell_type": "code",
   "execution_count": null,
   "metadata": {},
   "outputs": [],
   "source": []
  },
  {
   "cell_type": "code",
   "execution_count": null,
   "metadata": {},
   "outputs": [],
   "source": []
  },
  {
   "cell_type": "code",
   "execution_count": null,
   "metadata": {},
   "outputs": [],
   "source": []
  },
  {
   "cell_type": "code",
   "execution_count": null,
   "metadata": {},
   "outputs": [],
   "source": []
  }
 ],
 "metadata": {
  "kernelspec": {
   "display_name": "Python 3",
   "language": "python",
   "name": "python3"
  },
  "language_info": {
   "codemirror_mode": {
    "name": "ipython",
    "version": 3
   },
   "file_extension": ".py",
   "mimetype": "text/x-python",
   "name": "python",
   "nbconvert_exporter": "python",
   "pygments_lexer": "ipython3",
   "version": "3.11.2"
  }
 },
 "nbformat": 4,
 "nbformat_minor": 2
}
